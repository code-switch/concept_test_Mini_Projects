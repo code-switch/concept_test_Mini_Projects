{
 "cells": [
  {
   "cell_type": "markdown",
   "metadata": {
    "id": "s0Ej_bXyQvnV"
   },
   "source": [
    "# Compute performance metrics for the given Y and Y_score without sklearn"
   ]
  },
  {
   "cell_type": "code",
   "execution_count": 5,
   "metadata": {
    "id": "4CHb6NE7Qvnc"
   },
   "outputs": [],
   "source": [
    "import numpy as np\n",
    "import pandas as pd\n",
    "# other than these two you should not import any other packages"
   ]
  },
  {
   "cell_type": "markdown",
   "metadata": {
    "id": "KbsWXuDaQvnq"
   },
   "source": [
    "\n",
    "## A. Compute performance metrics for the given data '5_a.csv'\n",
    " <pre>  <b>Note 1:</b> in this data you can see number of positive points >> number of negatives points\n",
    "   <b>Note 2:</b> use pandas or numpy to read the data from <b>5_a.csv</b>\n",
    "   <b>Note 3:</b> you need to derive the class labels from given score</pre> $y^{pred}= \\text{[0 if y_score < 0.5 else 1]}$\n",
    "\n",
    "<pre>\n",
    "<ol>\n",
    "<li> Compute Confusion Matrix </li>\n",
    "<li> Compute F1 Score </li>\n",
    "<li> Compute AUC Score, you need to compute different thresholds and for each threshold compute tpr,fpr and then use               numpy.trapz(tpr_array, fpr_array) <a href='https://stackoverflow.com/q/53603376/4084039'>https://stackoverflow.com/q/53603376/4084039</a>, <a href='https://stackoverflow.com/a/39678975/4084039'>https://stackoverflow.com/a/39678975/4084039</a> Note: it should be numpy.trapz(tpr_array, fpr_array) not numpy.trapz(fpr_array, tpr_array)\n",
    "Note- Make sure that you arrange your probability scores in descending order while calculating AUC</li>\n",
    "<li> Compute Accuracy Score </li>\n",
    "</ol>\n",
    "</pre>"
   ]
  },
  {
   "cell_type": "code",
   "execution_count": 6,
   "metadata": {
    "colab": {
     "base_uri": "https://localhost:8080/"
    },
    "id": "zKjN-ipL3EBl",
    "outputId": "08c04225-5e37-4597-dc85-332097ed3124"
   },
   "outputs": [
    {
     "name": "stdout",
     "output_type": "stream",
     "text": [
      "Drive already mounted at /content/drive; to attempt to forcibly remount, call drive.mount(\"/content/drive\", force_remount=True).\n"
     ]
    }
   ],
   "source": [
    "from google.colab import drive\n",
    "drive.mount('/content/drive')"
   ]
  },
  {
   "cell_type": "code",
   "execution_count": 14,
   "metadata": {
    "colab": {
     "base_uri": "https://localhost:8080/"
    },
    "id": "WaFLW7oBQvnt",
    "outputId": "d34bd8ce-667c-44c2-c508-8b238b7a2362"
   },
   "outputs": [
    {
     "name": "stdout",
     "output_type": "stream",
     "text": [
      "     y     proba\n",
      "0  1.0  0.637387\n",
      "1  1.0  0.635165\n",
      "2  1.0  0.766586\n",
      "3  1.0  0.724564\n",
      "4  1.0  0.889199\n",
      "5  1.0  0.601600\n",
      "6  1.0  0.666323\n",
      "7  1.0  0.567012\n",
      "8  1.0  0.650230\n",
      "9  1.0  0.829346\n",
      "10100\n"
     ]
    }
   ],
   "source": [
    "\n",
    "df_a=pd.read_csv('/content/drive/MyDrive/5_Performance_metrics/5_a.csv')\n",
    "print(df_a.head(10))\n",
    "print(len(df_a['proba']))"
   ]
  },
  {
   "cell_type": "code",
   "execution_count": 15,
   "metadata": {
    "id": "C-gKS3HRtIds"
   },
   "outputs": [],
   "source": [
    "# write your code here for task A\n",
    "from tqdm import tqdm\n",
    "def parameter_cal(df, threshold):\n",
    "  y_cap = []\n",
    "  for prob in df.iloc[:,1]:\n",
    "    if prob >= threshold:\n",
    "      y_cap.append(1)\n",
    "      \n",
    "    else:\n",
    "      y_cap.append(0)\n",
    "      \n",
    "  df['y_cap'] = y_cap\n",
    " \n",
    "  TN, FN, FP, TP  = (0,0,0,0)\n",
    "  idx_0 = list(df[df['y'] == 0.0].index.values)\n",
    "  idx_1 = list(df[df['y'] == 1.0].index.values)\n",
    "\n",
    "  for idx in idx_0:\n",
    "    if df.iloc[idx,2] == 0:\n",
    "      TN += 1\n",
    "    else:\n",
    "      FP += 1\n",
    "\n",
    "  for idx in idx_1:\n",
    "    if df.iloc[idx, 2] == 0:\n",
    "      FN += 1\n",
    "    else: \n",
    "      TP +=1 \n",
    "  \n",
    "  return TN, FP, FN, TP"
   ]
  },
  {
   "cell_type": "code",
   "execution_count": 16,
   "metadata": {
    "colab": {
     "base_uri": "https://localhost:8080/",
     "height": 765
    },
    "id": "yg8uUJvGAfCM",
    "outputId": "78384cd9-60be-4903-f201-3b48fc642bea"
   },
   "outputs": [
    {
     "name": "stdout",
     "output_type": "stream",
     "text": [
      "performance metrics for the given data 5_a.csv\n",
      "\n",
      "1) Confusion matrix parameters: \n",
      "TN = 0\n",
      "FN = 0\n",
      "FP = 100\n",
      "TP = 10000\n",
      "\n",
      "2) F1-score: 0.9950248756218906\n",
      "         y     proba  y_cap\n",
      "0      1.0  0.899965      1\n",
      "1      1.0  0.899828      1\n",
      "2      1.0  0.899825      1\n",
      "3      1.0  0.899812      1\n",
      "4      1.0  0.899768      1\n",
      "...    ...       ...    ...\n",
      "10095  1.0  0.500081      1\n",
      "10096  1.0  0.500058      1\n",
      "10097  1.0  0.500058      1\n",
      "10098  1.0  0.500047      1\n",
      "10099  1.0  0.500019      1\n",
      "\n",
      "[10100 rows x 3 columns]\n"
     ]
    },
    {
     "name": "stderr",
     "output_type": "stream",
     "text": [
      "100%|██████████| 10100/10100 [00:48<00:00, 206.64it/s]\n"
     ]
    },
    {
     "data": {
      "image/png": "[encoded data removed]",
      "text/plain": [
       "<Figure size 432x288 with 1 Axes>"
      ]
     },
     "metadata": {
      "needs_background": "light"
     },
     "output_type": "display_data"
    },
    {
     "name": "stdout",
     "output_type": "stream",
     "text": [
      "\n",
      "3) AUC score: 0.4882989999999999\n",
      "\n",
      "4) Accuracy Score: 0.9900990099009901\n"
     ]
    }
   ],
   "source": [
    "import matplotlib.pyplot as plt\n",
    "from tqdm import tqdm\n",
    "\n",
    "TN, FP, FN, TP = parameter_cal(df_a, 0.5)\n",
    "\n",
    "print('performance metrics for the given data 5_a.csv\\n')\n",
    "print('1) Confusion matrix parameters: \\nTN = {}\\nFN = {}\\nFP = {}\\nTP = {}'.format(TN,FN,FP,TP))\n",
    "\n",
    "precision = TP/(TP + FP)\n",
    "recall = TP/(TP + FN)\n",
    "\n",
    "f1_score = 2*precision*recall/(precision + recall)\n",
    "print('\\n2) F1-score: {}'.format(f1_score))\n",
    "\n",
    "df_a.sort_values(by = 'proba', inplace = True, ascending = False)\n",
    "df_a_copy = df_a.reset_index( drop = True, inplace = False)\n",
    "#print(df_a_copy)\n",
    "\n",
    "idx_y0 = []\n",
    "idx_y0 = list(df_a_copy[df_a_copy['y'] == 0.0].index.values)\n",
    "\n",
    "idx_y1 = []\n",
    "idx_y1 = list(df_a_copy[df_a_copy['y'] == 1.0].index.values)\n",
    "\n",
    "TPR_lst = []\n",
    "FPR_lst = []\n",
    "\n",
    "\n",
    "for i in tqdm(range(0,len(df_a_copy['proba']))):\n",
    "  lst_TN = []\n",
    "  lst_FN = []\n",
    "  lst_FP = []\n",
    "  lst_TP = []\n",
    "  TN, FN, FP, TP  = (0,0,0,0)\n",
    "  \n",
    "  df_a_copy.iloc[0: (i + 1) , 2] = 1\n",
    "  df_a_copy.iloc[(i + 1): , 2] = 0\n",
    "  \n",
    "  idx_ycap0 = []\n",
    "  idx_ycap0 = list(df_a_copy[df_a_copy['y_cap'] == 0].index.values)\n",
    "  \n",
    "  set_y0 = set(idx_y0)\n",
    "  set_ycap0 = set(idx_ycap0)\n",
    "  if (set_y0 & set_ycap0):\n",
    "    lst_TN = list(set_y0 & set_ycap0)\n",
    "  \n",
    "  idx_ycap1 = []\n",
    "  idx_ycap1 = list(df_a_copy[df_a_copy['y_cap'] == 1].index.values)\n",
    "\n",
    "  set_ycap1 = set(idx_ycap1)\n",
    "  if (set_y0 & set_ycap1):\n",
    "    lst_FP = list(set_y0 & set_ycap1)\n",
    "\n",
    "  set_y1 = set(idx_y1)\n",
    "  if (set_y1 & set_ycap0):\n",
    "    lst_FN = list(set_y1 & set_ycap0)\n",
    "\n",
    "  if (set_y1 & set_ycap1):\n",
    "    lst_TP = list(set_y1 & set_ycap1)\n",
    "\n",
    "  TN = len(lst_TN)\n",
    "  FP = len(lst_FP)\n",
    "  FN = len(lst_FN)\n",
    "  TP = len(lst_TP)\n",
    "  \n",
    "  e = 0.0000000000000111\n",
    "  TPR = TP/(TP+FN+e)\n",
    "  FPR = FP/(FP+TN+e)\n",
    "  TPR_lst.append(TPR)\n",
    "  FPR_lst.append(FPR)\n",
    "\n",
    "plt.plot(FPR_lst, TPR_lst)\n",
    "plt.ylabel('TPR values')\n",
    "plt.xlabel('FPR values')\n",
    "plt.show()\n",
    "\n",
    "AUC_score =  np.trapz(np.array(TPR_lst), np.array(FPR_lst))\n",
    "print('\\n3) AUC score: {}'.format(AUC_score))\n",
    "\n",
    "acc_score = (TN + TP)/(TN+TP+FN+FP)\n",
    "print('\\n4) Accuracy Score: {}'.format(acc_score))"
   ]
  },
  {
   "cell_type": "markdown",
   "metadata": {
    "id": "V5KZem1BQvn2"
   },
   "source": [
    "\n",
    "\n",
    "\n",
    "## B. Compute performance metrics for the given data '5_b.csv'\n",
    "<pre>\n",
    "   <b>Note 1:</b> in this data you can see number of positive points << number of negatives points\n",
    "   <b>Note 2:</b> use pandas or numpy to read the data from <b>5_b.csv</b>\n",
    "   <b>Note 3:</b> you need to derive the class labels from given score</pre> $y^{pred}= \\text{[0 if y_score < 0.5 else 1]}$\n",
    "\n",
    "<pre>\n",
    "<ol>\n",
    "<li> Compute Confusion Matrix </li>\n",
    "<li> Compute F1 Score </li>\n",
    "<li> Compute AUC Score, you need to compute different thresholds and for each threshold compute tpr,fpr and then use               numpy.trapz(tpr_array, fpr_array) <a href='https://stackoverflow.com/q/53603376/4084039'>https://stackoverflow.com/q/53603376/4084039</a>, <a href='https://stackoverflow.com/a/39678975/4084039'>https://stackoverflow.com/a/39678975/4084039</a>\n",
    "Note- Make sure that you arrange your probability scores in descending order while calculating AUC</li>\n",
    "<li> Compute Accuracy Score </li>\n",
    "</ol>\n",
    "</pre>"
   ]
  },
  {
   "cell_type": "code",
   "execution_count": 22,
   "metadata": {
    "colab": {
     "base_uri": "https://localhost:8080/"
    },
    "id": "U2sKlq0YQvn5",
    "outputId": "8976a87e-6986-49f0-cf4c-b753322975d5"
   },
   "outputs": [
    {
     "name": "stdout",
     "output_type": "stream",
     "text": [
      "     y     proba\n",
      "0  0.0  0.281035\n",
      "1  0.0  0.465152\n",
      "2  0.0  0.352793\n",
      "3  0.0  0.157818\n",
      "4  0.0  0.276648\n",
      "5  0.0  0.190260\n",
      "6  0.0  0.320328\n",
      "7  0.0  0.435013\n",
      "8  0.0  0.284849\n",
      "9  0.0  0.427919\n"
     ]
    }
   ],
   "source": [
    "df_b=pd.read_csv('/content/drive/MyDrive/5_Performance_metrics/5_b.csv')\n",
    "print(df_b.head(10))"
   ]
  },
  {
   "cell_type": "code",
   "execution_count": 23,
   "metadata": {
    "id": "xlLVa-cVAfCS"
   },
   "outputs": [],
   "source": [
    "# write your code here for task B\n",
    "from tqdm import tqdm\n",
    "def parameter_cal(df, threshold):\n",
    "  y_cap = []\n",
    "  for prob in df.iloc[:,1]:\n",
    "    if prob >= threshold:\n",
    "      y_cap.append(1)\n",
    "      \n",
    "    else:\n",
    "      y_cap.append(0)\n",
    "      \n",
    "  df['y_cap'] = y_cap\n",
    "  \n",
    "  TN, FN, FP, TP  = (0,0,0,0)\n",
    "  idx_0 = list(df[df['y'] == 0.0].index.values)\n",
    "  idx_1 = list(df[df['y'] == 1.0].index.values)\n",
    "\n",
    "  for idx in idx_0:\n",
    "    if df.iloc[idx,2] == 0:\n",
    "      TN += 1\n",
    "    else:\n",
    "      FP += 1\n",
    "\n",
    "  for idx in idx_1:\n",
    "    if df.iloc[idx, 2] == 0:\n",
    "      FN += 1\n",
    "    else: \n",
    "      TP +=1 \n",
    "  \n",
    "  return TN, FP, FN, TP"
   ]
  },
  {
   "cell_type": "code",
   "execution_count": 24,
   "metadata": {
    "colab": {
     "base_uri": "https://localhost:8080/",
     "height": 765
    },
    "id": "wW6OFr_khcuP",
    "outputId": "199a3634-b48d-42f8-b2df-becbca3bbb62"
   },
   "outputs": [
    {
     "name": "stdout",
     "output_type": "stream",
     "text": [
      "performance metrics for the given data 5_b.csv\n",
      "\n",
      "1) Confusion matrix parameters: \n",
      "TN = 9761\n",
      "FN = 45\n",
      "FP = 239\n",
      "TP = 55\n",
      "\n",
      "2) F1-score: 0.2791878172588833\n",
      "         y     proba  y_cap\n",
      "0      1.0  0.595294      1\n",
      "1      1.0  0.594808      1\n",
      "2      1.0  0.592198      1\n",
      "3      1.0  0.590171      1\n",
      "4      1.0  0.588718      1\n",
      "...    ...       ...    ...\n",
      "10095  0.0  0.100230      0\n",
      "10096  0.0  0.100189      0\n",
      "10097  0.0  0.100165      0\n",
      "10098  0.0  0.100161      0\n",
      "10099  0.0  0.100001      0\n",
      "\n",
      "[10100 rows x 3 columns]\n"
     ]
    },
    {
     "name": "stderr",
     "output_type": "stream",
     "text": [
      "100%|██████████| 10100/10100 [00:52<00:00, 193.38it/s]\n"
     ]
    },
    {
     "data": {
      "image/png": "[encoded data removed]",
      "text/plain": [
       "<Figure size 432x288 with 1 Axes>"
      ]
     },
     "metadata": {
      "needs_background": "light"
     },
     "output_type": "display_data"
    },
    {
     "name": "stdout",
     "output_type": "stream",
     "text": [
      "\n",
      "3) AUC score: 0.9377569999999998\n",
      "\n",
      "4) Accuracy Score: 0.009900990099009901\n"
     ]
    }
   ],
   "source": [
    "import matplotlib.pyplot as plt\n",
    "from tqdm import tqdm\n",
    "\n",
    "TN, FP, FN, TP = parameter_cal(df_b, 0.5)\n",
    "\n",
    "print('performance metrics for the given data 5_b.csv\\n')\n",
    "print('1) Confusion matrix parameters: \\nTN = {}\\nFN = {}\\nFP = {}\\nTP = {}'.format(TN,FN,FP,TP))\n",
    "\n",
    "precision = TP/(TP + FP)\n",
    "recall = TP/(TP + FN)\n",
    "\n",
    "f1_score = 2*precision*recall/(precision + recall)\n",
    "print('\\n2) F1-score: {}'.format(f1_score))\n",
    "\n",
    "df_b.sort_values(by = 'proba', inplace = True, ascending = False)\n",
    "df_b_copy = df_b.reset_index( drop = True, inplace = False)\n",
    "#print(df_b_copy)\n",
    "\n",
    "idx_y0 = []\n",
    "idx_y0 = list(df_b_copy[df_b_copy['y'] == 0.0].index.values)\n",
    "\n",
    "idx_y1 = []\n",
    "idx_y1 = list(df_b_copy[df_b_copy['y'] == 1.0].index.values)\n",
    "\n",
    "TPR_lst = []\n",
    "FPR_lst = []\n",
    "\n",
    "\n",
    "for i in tqdm(range(0,len(df_b_copy['proba']))):\n",
    "  lst_TN = []\n",
    "  lst_FN = []\n",
    "  lst_FP = []\n",
    "  lst_TP = []\n",
    "  TN, FN, FP, TP  = (0,0,0,0)\n",
    "  \n",
    "  df_b_copy.iloc[0: (i + 1) , 2] = 1\n",
    "  df_b_copy.iloc[(i + 1): , 2] = 0\n",
    "  \n",
    "  idx_ycap0 = []\n",
    "  idx_ycap0 = list(df_b_copy[df_b_copy['y_cap'] == 0].index.values)\n",
    "  \n",
    "  set_y0 = set(idx_y0)\n",
    "  set_ycap0 = set(idx_ycap0)\n",
    "  if (set_y0 & set_ycap0):\n",
    "    lst_TN = list(set_y0 & set_ycap0)\n",
    "  \n",
    "  idx_ycap1 = []\n",
    "  idx_ycap1 = list(df_b_copy[df_b_copy['y_cap'] == 1].index.values)\n",
    "\n",
    "  set_ycap1 = set(idx_ycap1)\n",
    "  if (set_y0 & set_ycap1):\n",
    "    lst_FP = list(set_y0 & set_ycap1)\n",
    "\n",
    "  set_y1 = set(idx_y1)\n",
    "  if (set_y1 & set_ycap0):\n",
    "    lst_FN = list(set_y1 & set_ycap0)\n",
    "\n",
    "  if (set_y1 & set_ycap1):\n",
    "    lst_TP = list(set_y1 & set_ycap1)\n",
    "\n",
    "  TN = len(lst_TN)\n",
    "  FP = len(lst_FP)\n",
    "  FN = len(lst_FN)\n",
    "  TP = len(lst_TP)\n",
    "  \n",
    "  e = 0.0000000000000111\n",
    "  TPR = TP/(TP+FN+e)\n",
    "  FPR = FP/(FP+TN+e)\n",
    "  TPR_lst.append(TPR)\n",
    "  FPR_lst.append(FPR)\n",
    "\n",
    "plt.plot(FPR_lst, TPR_lst)\n",
    "plt.ylabel('TPR values')\n",
    "plt.xlabel('FPR values')\n",
    "plt.show()\n",
    "\n",
    "AUC_score =  np.trapz(np.array(TPR_lst), np.array(FPR_lst))\n",
    "print('\\n3) AUC score: {}'.format(AUC_score))\n",
    "\n",
    "acc_score = (TN + TP)/(TN+TP+FN+FP)\n",
    "print('\\n4) Accuracy Score: {}'.format(acc_score))"
   ]
  },
  {
   "cell_type": "markdown",
   "metadata": {
    "id": "GiPGonTzQvoB"
   },
   "source": [
    "### C. Compute the best threshold (similarly to ROC curve computation) of probability which gives lowest values of metric <b>A</b> for the given data \n",
    "<br>\n",
    "\n",
    "you will be predicting label of a data points like this: $y^{pred}= \\text{[0 if y_score < threshold  else 1]}$\n",
    "\n",
    "$ A = 500 \\times \\text{number of false negative} + 100 \\times \\text{numebr of false positive}$\n",
    "\n",
    "<pre>\n",
    "   <b>Note 1:</b> in this data you can see number of negative points > number of positive points\n",
    "   <b>Note 2:</b> use pandas or numpy to read the data from <b>5_c.csv</b>\n",
    "</pre>"
   ]
  },
  {
   "cell_type": "code",
   "execution_count": 34,
   "metadata": {
    "colab": {
     "base_uri": "https://localhost:8080/"
    },
    "id": "x5HIJzq1QvoE",
    "outputId": "86b4bacb-dacd-4508-cd2b-a6e9f35b316b"
   },
   "outputs": [
    {
     "name": "stdout",
     "output_type": "stream",
     "text": [
      "   y      prob\n",
      "0  0  0.458521\n",
      "1  0  0.505037\n",
      "2  0  0.418652\n",
      "3  0  0.412057\n",
      "4  0  0.375579\n",
      "5  0  0.595387\n",
      "6  0  0.370288\n",
      "7  0  0.299273\n",
      "8  0  0.297000\n",
      "9  0  0.266479\n"
     ]
    }
   ],
   "source": [
    "df_c=pd.read_csv('/content/drive/MyDrive/5_Performance_metrics/5_c.csv')\n",
    "print(df_c.head(10))"
   ]
  },
  {
   "cell_type": "code",
   "execution_count": 35,
   "metadata": {
    "colab": {
     "base_uri": "https://localhost:8080/"
    },
    "id": "8HSwRAQPkWva",
    "outputId": "a7b27d9b-354a-4aba-a5d1-faaf90bfb32f"
   },
   "outputs": [
    {
     "name": "stdout",
     "output_type": "stream",
     "text": [
      "      y      prob  y_cap\n",
      "0     1  0.957747      0\n",
      "1     1  0.951437      0\n",
      "2     1  0.948638      0\n",
      "3     1  0.944094      0\n",
      "4     1  0.941113      0\n",
      "...  ..       ...    ...\n",
      "2847  0  0.031114      0\n",
      "2848  0  0.030269      0\n",
      "2849  0  0.028964      0\n",
      "2850  0  0.028396      0\n",
      "2851  0  0.028038      0\n",
      "\n",
      "[2852 rows x 3 columns]\n"
     ]
    },
    {
     "name": "stderr",
     "output_type": "stream",
     "text": [
      "100%|██████████| 2852/2852 [00:06<00:00, 418.53it/s]"
     ]
    },
    {
     "name": "stdout",
     "output_type": "stream",
     "text": [
      "\n",
      "Best threshold of probability value is: 0.2300390278970873\n"
     ]
    },
    {
     "name": "stderr",
     "output_type": "stream",
     "text": [
      "\n"
     ]
    }
   ],
   "source": [
    "import matplotlib.pyplot as plt\n",
    "from tqdm import tqdm\n",
    "\n",
    "y_cap = []\n",
    "for j in range(0, len(df_c['y'])):\n",
    "   y_cap.append(0)\n",
    "\n",
    "df_c['y_cap'] = y_cap\n",
    "\n",
    "df_c.sort_values(by = 'prob', inplace = True, ascending = False)\n",
    "df_c_copy = df_c.reset_index( drop = True, inplace = False)\n",
    "\n",
    "idx_y0 = []\n",
    "idx_y0 = list(df_c_copy[df_c_copy['y'] == 0].index.values)\n",
    "\n",
    "idx_y1 = []\n",
    "idx_y1 = list(df_c_copy[df_c_copy['y'] == 1].index.values)\n",
    "\n",
    "A_dict = dict()\n",
    "\n",
    "for i in tqdm(range(0,len(df_c_copy['prob']))):\n",
    "  lst_TN = []\n",
    "  lst_FN = []\n",
    "  lst_FP = []\n",
    "  lst_TP = []\n",
    "  TN, FN, FP, TP  = (0,0,0,0)\n",
    "  \n",
    "  df_c_copy.iloc[0: (i + 1) , 2] = 1\n",
    "  df_c_copy.iloc[(i + 1): , 2] = 0\n",
    "  \n",
    "  idx_ycap0 = []\n",
    "  idx_ycap0 = list(df_c_copy[df_c_copy['y_cap'] == 0].index.values)\n",
    "  \n",
    "  set_y0 = set(idx_y0)\n",
    "  set_ycap0 = set(idx_ycap0)\n",
    "  if (set_y0 & set_ycap0):\n",
    "    lst_TN = list(set_y0 & set_ycap0)\n",
    "  \n",
    "  idx_ycap1 = []\n",
    "  idx_ycap1 = list(df_c_copy[df_c_copy['y_cap'] == 1].index.values)\n",
    "\n",
    "  set_ycap1 = set(idx_ycap1)\n",
    "  if (set_y0 & set_ycap1):\n",
    "    lst_FP = list(set_y0 & set_ycap1)\n",
    "\n",
    "  set_y1 = set(idx_y1)\n",
    "  if (set_y1 & set_ycap0):\n",
    "    lst_FN = list(set_y1 & set_ycap0)\n",
    "\n",
    "  if (set_y1 & set_ycap1):\n",
    "    lst_TP = list(set_y1 & set_ycap1)\n",
    "\n",
    "  TN = len(lst_TN)\n",
    "  FP = len(lst_FP)\n",
    "  FN = len(lst_FN)\n",
    "  TP = len(lst_TP)\n",
    "  \n",
    "  A_value = 500*FN + 100*FP\n",
    "  A_dict[A_value] = i\n",
    "  \n",
    "keys = sorted(A_dict.keys())\n",
    "A_min = A_dict[keys[0]]\n",
    "print('\\nBest threshold of probability value is:', df_c_copy.iloc[A_min, 1])"
   ]
  },
  {
   "cell_type": "markdown",
   "metadata": {
    "id": "sD4CcgjXQvoL"
   },
   "source": [
    "\n",
    "## D.</b></font> Compute performance metrics(for regression) for the given data 5_d.csv\n",
    "<pre>    <b>Note 2:</b> use pandas or numpy to read the data from <b>5_d.csv</b>\n",
    "    <b>Note 1:</b> <b>5_d.csv</b> will having two columns Y and predicted_Y both are real valued features\n",
    "<ol>\n",
    "<li> Compute Mean Square Error </li>\n",
    "<li> Compute MAPE: https://www.youtube.com/watch?v=ly6ztgIkUxk</li>\n",
    "<li> Compute R^2 error: https://en.wikipedia.org/wiki/Coefficient_of_determination#Definitions </li>\n",
    "</ol>\n",
    "</pre>"
   ]
  },
  {
   "cell_type": "code",
   "execution_count": 36,
   "metadata": {
    "colab": {
     "base_uri": "https://localhost:8080/"
    },
    "id": "sVOj-bF9AfCd",
    "outputId": "394fad23-300f-4458-f2a5-8575ebf2bc75"
   },
   "outputs": [
    {
     "name": "stdout",
     "output_type": "stream",
     "text": [
      "       y   pred\n",
      "0  101.0  100.0\n",
      "1  120.0  100.0\n",
      "2  131.0  113.0\n",
      "3  164.0  125.0\n",
      "4  154.0  152.0\n",
      "5  133.0  153.0\n",
      "6  148.0  139.0\n",
      "7  172.0  145.0\n",
      "8  153.0  162.0\n",
      "9  162.0  154.0\n"
     ]
    }
   ],
   "source": [
    "df_d=pd.read_csv('/content/drive/MyDrive/5_Performance_metrics/5_d.csv')\n",
    "print(df_d.head(10))"
   ]
  },
  {
   "cell_type": "code",
   "execution_count": 40,
   "metadata": {
    "colab": {
     "base_uri": "https://localhost:8080/"
    },
    "id": "uRhL1pheAfCe",
    "outputId": "f2d49aba-bd36-4b7b-ff47-5beb86d0ad00"
   },
   "outputs": [
    {
     "name": "stdout",
     "output_type": "stream",
     "text": [
      "Mean Square Error: 177.16569974554707\n",
      "Mean Absolute Percentage error: 12.91202994009687\n",
      "R-square error: 0.9563582786990964\n"
     ]
    }
   ],
   "source": [
    " # write your code for task 5d\n",
    "sum_1 = 0\n",
    "sum_2 = 0\n",
    "sum_3 = 0\n",
    "n = len(df_d['y'])\n",
    "for i in range(0, n):\n",
    "  sum_1 += (df_d.iloc[i,0] - df_d.iloc[i, 1])**2\n",
    "  sum_2 += abs(df_d.iloc[i,0] - df_d.iloc[i,1])\n",
    "  sum_3 += df_d.iloc[i,0]\n",
    "\n",
    "MSE = sum_1/n\n",
    "print('Mean Square Error:',MSE)\n",
    "\n",
    "MAPE = sum_2/sum_3\n",
    "print('Mean Absolute Percentage error:',MAPE*100)\n",
    "\n",
    "SS_tot = 0\n",
    "for i in range(0, len(df_d['y'])):\n",
    "  SS_tot += (df_d.iloc[i,0] - sum_3/n)**2 \n",
    "\n",
    "R_square = 1 - sum_1/SS_tot\n",
    "print('R-square error:', R_square)"
   ]
  }
 ],
 "metadata": {
  "colab": {
   "collapsed_sections": [],
   "name": "Copy of 5_Performance_metrics_Instructions.ipynb",
   "provenance": []
  },
  "kernelspec": {
   "display_name": "Python 3",
   "language": "python",
   "name": "python3"
  },
  "language_info": {
   "codemirror_mode": {
    "name": "ipython",
    "version": 3
   },
   "file_extension": ".py",
   "mimetype": "text/x-python",
   "name": "python",
   "nbconvert_exporter": "python",
   "pygments_lexer": "ipython3",
   "version": "3.8.8"
  }
 },
 "nbformat": 4,
 "nbformat_minor": 1
}
